{
 "cells": [
  {
   "cell_type": "markdown",
   "id": "3129ab3d",
   "metadata": {},
   "source": [
    "# Ensemble/Voting Classification in Python with Scikit-Learn\n",
    "ref：https://www.kaggle.com/c/titanic/submit"
   ]
  },
  {
   "cell_type": "code",
   "execution_count": 1,
   "id": "c6b020b8",
   "metadata": {},
   "outputs": [],
   "source": [
    "import pandas as pd\n",
    "import numpy as np\n",
    "import warnings\n",
    "\n",
    "from sklearn.preprocessing import LabelEncoder, StandardScaler\n",
    "from sklearn.metrics import accuracy_score, f1_score, log_loss\n",
    "from sklearn.model_selection import train_test_split, KFold, cross_val_score\n",
    "\n",
    "from sklearn.svm import SVC\n",
    "from sklearn.linear_model import LogisticRegression\n",
    "from sklearn.tree import DecisionTreeClassifier\n",
    "from sklearn.ensemble import VotingClassifier\n",
    "from sklearn.ensemble import BaggingClassifier\n",
    "from sklearn.ensemble import AdaBoostClassifier, RandomForestClassifier, ExtraTreesClassifier"
   ]
  },
  {
   "cell_type": "code",
   "execution_count": 2,
   "id": "7163b994",
   "metadata": {
    "scrolled": true
   },
   "outputs": [
    {
     "name": "stdout",
     "output_type": "stream",
     "text": [
      "Training Data:\n",
      "PassengerId      0\n",
      "Survived         0\n",
      "Pclass           0\n",
      "Name             0\n",
      "Sex              0\n",
      "Age            177\n",
      "SibSp            0\n",
      "Parch            0\n",
      "Ticket           0\n",
      "Fare             0\n",
      "Cabin          687\n",
      "Embarked         2\n",
      "dtype: int64\n",
      "Testing Data:\n",
      "PassengerId      0\n",
      "Pclass           0\n",
      "Name             0\n",
      "Sex              0\n",
      "Age             86\n",
      "SibSp            0\n",
      "Parch            0\n",
      "Ticket           0\n",
      "Fare             1\n",
      "Cabin          327\n",
      "Embarked         0\n",
      "dtype: int64\n"
     ]
    }
   ],
   "source": [
    "training_data = pd.read_csv(\"data/train.csv\")\n",
    "testing_data = pd.read_csv(\"data/test.csv\")\n",
    "def get_nulls(training, testing):\n",
    "    print(\"Training Data:\")\n",
    "    print(pd.isnull(training).sum())\n",
    "    print(\"Testing Data:\")\n",
    "    print(pd.isnull(testing).sum())\n",
    "\n",
    "get_nulls(training_data, testing_data)\n",
    "#計算有多少特徵值缺漏"
   ]
  },
  {
   "cell_type": "code",
   "execution_count": 3,
   "id": "ffd6109f",
   "metadata": {},
   "outputs": [
    {
     "name": "stdout",
     "output_type": "stream",
     "text": [
      "Training Data:\n",
      "PassengerId    0\n",
      "Survived       0\n",
      "Pclass         0\n",
      "Sex            0\n",
      "Age            0\n",
      "SibSp          0\n",
      "Parch          0\n",
      "Fare           0\n",
      "Embarked       0\n",
      "dtype: int64\n",
      "Testing Data:\n",
      "PassengerId    0\n",
      "Pclass         0\n",
      "Sex            0\n",
      "Age            0\n",
      "SibSp          0\n",
      "Parch          0\n",
      "Fare           0\n",
      "Embarked       0\n",
      "dtype: int64\n"
     ]
    }
   ],
   "source": [
    "# Drop the cabin column, as there are too many missing values\n",
    "# Drop the ticket numbers too, as there are too many categories\n",
    "# Drop names as they won't really help predict survivors\n",
    "training_data.drop(labels = [\"Cabin\", \"Ticket\", \"Name\"], axis = 1, inplace = True)\n",
    "testing_data.drop(labels = [\"Cabin\", \"Ticket\", \"Name\"], axis = 1, inplace = True)\n",
    "\n",
    "\n",
    "# Taking the mean/average value would be impacted by the skew\n",
    "# so we should use the median value to impute missing values\n",
    "training_data[\"Age\"].fillna(training_data[\"Age\"].median(), inplace=True)\n",
    "testing_data[\"Age\"].fillna(testing_data[\"Age\"].median(), inplace=True)\n",
    "training_data[\"Embarked\"].fillna(\"S\", inplace=True)\n",
    "testing_data[\"Fare\"].fillna(testing_data[\"Fare\"].median(), inplace=True)\n",
    "\n",
    "get_nulls(training_data, testing_data)"
   ]
  },
  {
   "cell_type": "code",
   "execution_count": 4,
   "id": "19e4f59b",
   "metadata": {},
   "outputs": [],
   "source": [
    "# Fit the encoder on the data (Feature: Sex)\n",
    "encoder_1 = LabelEncoder()\n",
    "encoder_1.fit(training_data[\"Sex\"])\n",
    "\n",
    "# Transform and replace training data\n",
    "training_sex_encoded = encoder_1.transform(training_data[\"Sex\"])\n",
    "training_data[\"Sex\"] = training_sex_encoded\n",
    "test_sex_encoded = encoder_1.transform(testing_data[\"Sex\"])\n",
    "testing_data[\"Sex\"] = test_sex_encoded\n",
    "\n",
    "# Fit the encoder on the data (Feature: Embarked)\n",
    "encoder_2 = LabelEncoder()\n",
    "encoder_2.fit(training_data[\"Embarked\"])\n",
    "training_sex_encoded = encoder_2.transform(training_data[\"Embarked\"])\n",
    "training_data[\"Embarked\"] = training_sex_encoded\n",
    "test_sex_encoded = encoder_2.transform(testing_data[\"Embarked\"])\n",
    "testing_data[\"Embarked\"] = test_sex_encoded\n",
    "\n",
    "# Any value we want to reshape needs be turned into array first\n",
    "ages_train = np.array(training_data[\"Age\"]).reshape(-1, 1)\n",
    "ages_test = np.array(testing_data[\"Age\"]).reshape(-1, 1)\n",
    "fares_train = np.array(training_data[\"Fare\"]).reshape(-1, 1)\n",
    "fares_test = np.array(testing_data[\"Fare\"]).reshape(-1, 1)\n",
    "\n",
    "\n",
    "# Scaler takes arrays\n",
    "scaler = StandardScaler()\n",
    "training_data[\"Age\"] = scaler.fit_transform(ages_train)\n",
    "testing_data[\"Age\"] = scaler.fit_transform(ages_test)\n",
    "training_data[\"Fare\"] = scaler.fit_transform(fares_train)\n",
    "testing_data[\"Fare\"] = scaler.fit_transform(fares_test)\n"
   ]
  },
  {
   "cell_type": "code",
   "execution_count": 5,
   "id": "65bd0090",
   "metadata": {},
   "outputs": [
    {
     "name": "stdout",
     "output_type": "stream",
     "text": [
      "   Pclass  Sex       Age  SibSp  Parch      Fare  Embarked\n",
      "0       3    1 -0.565736      1      0 -0.502445         2\n",
      "1       1    0  0.663861      1      0  0.786845         0\n",
      "2       3    0 -0.258337      0      0 -0.488854         2\n",
      "3       1    0  0.433312      1      0  0.420730         2\n",
      "4       3    1  0.433312      0      0 -0.486337         2\n",
      "0    0\n",
      "1    1\n",
      "2    1\n",
      "3    1\n",
      "4    0\n",
      "Name: Survived, dtype: int64\n"
     ]
    }
   ],
   "source": [
    "# Now to select our training/testing data\n",
    "X_features = training_data.drop(labels=['PassengerId', 'Survived'], axis=1)\n",
    "y_labels = training_data['Survived']\n",
    "\n",
    "print(X_features.head(5))\n",
    "print(y_labels.head(5))\n",
    "\n",
    "# Make the train/test data from validation\n",
    "#前置資料處理到此結束\n",
    "X_train, X_val, y_train, y_val = train_test_split(X_features, y_labels, test_size=0.1,random_state=12)"
   ]
  },
  {
   "cell_type": "markdown",
   "id": "5652bc34",
   "metadata": {},
   "source": [
    "## Simple Averaging Approach"
   ]
  },
  {
   "cell_type": "code",
   "execution_count": 6,
   "id": "9cd452cc",
   "metadata": {},
   "outputs": [
    {
     "name": "stdout",
     "output_type": "stream",
     "text": [
      "0.8\n"
     ]
    }
   ],
   "source": [
    "LogReg_clf = LogisticRegression() #演算法一\n",
    "DTree_clf = DecisionTreeClassifier() #演算法二\n",
    "SVC_clf = SVC() #演算法三\n",
    "\n",
    "LogReg_clf.fit(X_train, y_train) #演算法一訓練\n",
    "DTree_clf.fit(X_train, y_train) #演算法二訓練\n",
    "SVC_clf.fit(X_train, y_train) #演算法三訓練\n",
    "\n",
    "LogReg_pred = LogReg_clf.predict(X_val) #演算法一預測\n",
    "DTree_pred = DTree_clf.predict(X_val) #演算法二預測\n",
    "SVC_pred = SVC_clf.predict(X_val) #演算法三預測\n",
    "\n",
    "averaged_preds = (LogReg_pred + DTree_pred + SVC_pred)//3 #三者預測值平均起來\n",
    "acc = accuracy_score(y_val, averaged_preds)\n",
    "print(acc)"
   ]
  },
  {
   "cell_type": "markdown",
   "id": "82d32100",
   "metadata": {},
   "source": [
    "## Bagging Classification Example"
   ]
  },
  {
   "cell_type": "code",
   "execution_count": 10,
   "id": "62ac47a5",
   "metadata": {},
   "outputs": [
    {
     "name": "stdout",
     "output_type": "stream",
     "text": [
      "LogReg: 0.7927134146341464\n",
      "DTree: 0.8188719512195123\n",
      "RandomForest: 0.8113719512195123\n",
      "ExtraTrees: 0.7963719512195122\n"
     ]
    }
   ],
   "source": [
    "logreg_bagging_model = BaggingClassifier(base_estimator = LogReg_clf, n_estimators = 50, random_state = 12)\n",
    "dtree_bagging_model = BaggingClassifier(base_estimator = DTree_clf, n_estimators = 50, random_state = 12)\n",
    "random_forest = RandomForestClassifier(n_estimators = 100, random_state = 12)\n",
    "extra_trees = ExtraTreesClassifier(n_estimators = 100, random_state = 12)\n",
    "#range of for loop\n",
    "lst = [[\"LogReg: \", logreg_bagging_model], \n",
    "       [\"DTree: \", dtree_bagging_model], \n",
    "       [\"RandomForest: \", random_forest], \n",
    "       [\"ExtraTrees: \", extra_trees]]\n",
    "#to do in for loop\n",
    "def bagging_ensemble(model):\n",
    "    k_folds = KFold(n_splits=20, random_state=12,shuffle=True)\n",
    "    results = cross_val_score(model, X_train, y_train, cv=k_folds)#cross_validation for each model\n",
    "    print(results.mean())\n",
    "\n",
    "for i in lst:\n",
    "    print(i[0], end = '')\n",
    "    bagging_ensemble(i[1])"
   ]
  },
  {
   "cell_type": "markdown",
   "id": "09094ea7",
   "metadata": {},
   "source": [
    "## Boosting Classification Example"
   ]
  },
  {
   "cell_type": "code",
   "execution_count": 16,
   "id": "0a6d48bb",
   "metadata": {},
   "outputs": [
    {
     "name": "stdout",
     "output_type": "stream",
     "text": [
      "Results for 20 estimators: 0.8052134146341464\n",
      "Results for 40 estimators: 0.8176524390243903\n",
      "Results for 50 estimators: 0.8164024390243902\n",
      "Results for 60 estimators: 0.8164329268292683\n",
      "Results for 70 estimators: 0.8201524390243902\n",
      "Results for 80 estimators: 0.8151524390243902\n",
      "Results for 100 estimators: 0.8101524390243903\n"
     ]
    }
   ],
   "source": [
    "k_folds = KFold(n_splits=20, random_state=12,shuffle=True)\n",
    "num_estimators = [20,40,50,60,70,80,100]\n",
    "result_list = []\n",
    "\n",
    "for i in num_estimators:\n",
    "    ada_boost = AdaBoostClassifier(n_estimators = i, random_state = 12)\n",
    "    results = cross_val_score(ada_boost, X_train, y_train, cv = k_folds)\n",
    "    print(\"Results for {} estimators: \".format(i), end = '')\n",
    "    print(results.mean())\n",
    "    result_list.append(results.mean())"
   ]
  },
  {
   "cell_type": "code",
   "execution_count": 20,
   "id": "b4ef48f3",
   "metadata": {},
   "outputs": [
    {
     "data": {
      "text/plain": [
       "Text(0, 0.5, 'cross value score')"
      ]
     },
     "execution_count": 20,
     "metadata": {},
     "output_type": "execute_result"
    },
    {
     "data": {
      "image/png": "[encoded data removed]",
      "text/plain": [
       "<Figure size 1000x600 with 1 Axes>"
      ]
     },
     "metadata": {},
     "output_type": "display_data"
    }
   ],
   "source": [
    "import matplotlib.pyplot as plt\n",
    "\n",
    "plt.figure(figsize=(10,6))\n",
    "plt.plot(num_estimators, result_list, color='g',linestyle='--',marker='^',markerfacecolor='red',markersize=10)\n",
    "plt.title('est num vs. cross value score')\n",
    "plt.xlabel('est num')\n",
    "plt.ylabel('cross value score')"
   ]
  },
  {
   "cell_type": "markdown",
   "id": "8290c946",
   "metadata": {},
   "source": [
    "## voting\\Stacking Classification Example"
   ]
  },
  {
   "cell_type": "code",
   "execution_count": 21,
   "id": "161a4960",
   "metadata": {},
   "outputs": [
    {
     "name": "stdout",
     "output_type": "stream",
     "text": [
      "Accuracy is: 0.8333333333333334\n",
      "Log Loss is: 5.756516038980461\n",
      "F1 Score is: 0.7761194029850748\n"
     ]
    }
   ],
   "source": [
    "voting_clf = VotingClassifier(estimators=[('SVC', SVC_clf), ('DTree', DTree_clf), ('LogReg', LogReg_clf)], voting='hard')\n",
    "voting_clf.fit(X_train, y_train)\n",
    "preds = voting_clf.predict(X_val)\n",
    "acc = accuracy_score(y_val, preds)\n",
    "l_loss = log_loss(y_val, preds)\n",
    "f1 = f1_score(y_val, preds)\n",
    "\n",
    "print(\"Accuracy is: \" + str(acc))\n",
    "print(\"Log Loss is: \" + str(l_loss))\n",
    "print(\"F1 Score is: \" + str(f1))"
   ]
  },
  {
   "cell_type": "code",
   "execution_count": 22,
   "id": "aedc530e",
   "metadata": {},
   "outputs": [
    {
     "data": {
      "text/html": [
       "<div>\n",
       "<style scoped>\n",
       "    .dataframe tbody tr th:only-of-type {\n",
       "        vertical-align: middle;\n",
       "    }\n",
       "\n",
       "    .dataframe tbody tr th {\n",
       "        vertical-align: top;\n",
       "    }\n",
       "\n",
       "    .dataframe thead th {\n",
       "        text-align: right;\n",
       "    }\n",
       "</style>\n",
       "<table border=\"1\" class=\"dataframe\">\n",
       "  <thead>\n",
       "    <tr style=\"text-align: right;\">\n",
       "      <th></th>\n",
       "      <th>Pclass</th>\n",
       "      <th>Sex</th>\n",
       "      <th>Age</th>\n",
       "      <th>SibSp</th>\n",
       "      <th>Parch</th>\n",
       "      <th>Fare</th>\n",
       "      <th>Embarked</th>\n",
       "    </tr>\n",
       "  </thead>\n",
       "  <tbody>\n",
       "    <tr>\n",
       "      <th>715</th>\n",
       "      <td>3</td>\n",
       "      <td>1</td>\n",
       "      <td>-0.796286</td>\n",
       "      <td>0</td>\n",
       "      <td>0</td>\n",
       "      <td>-0.494391</td>\n",
       "      <td>2</td>\n",
       "    </tr>\n",
       "    <tr>\n",
       "      <th>319</th>\n",
       "      <td>1</td>\n",
       "      <td>0</td>\n",
       "      <td>0.817561</td>\n",
       "      <td>1</td>\n",
       "      <td>1</td>\n",
       "      <td>2.059694</td>\n",
       "      <td>0</td>\n",
       "    </tr>\n",
       "    <tr>\n",
       "      <th>829</th>\n",
       "      <td>1</td>\n",
       "      <td>0</td>\n",
       "      <td>2.508257</td>\n",
       "      <td>0</td>\n",
       "      <td>0</td>\n",
       "      <td>0.962353</td>\n",
       "      <td>2</td>\n",
       "    </tr>\n",
       "    <tr>\n",
       "      <th>79</th>\n",
       "      <td>3</td>\n",
       "      <td>0</td>\n",
       "      <td>0.049062</td>\n",
       "      <td>0</td>\n",
       "      <td>0</td>\n",
       "      <td>-0.397241</td>\n",
       "      <td>2</td>\n",
       "    </tr>\n",
       "    <tr>\n",
       "      <th>484</th>\n",
       "      <td>1</td>\n",
       "      <td>1</td>\n",
       "      <td>-0.335187</td>\n",
       "      <td>1</td>\n",
       "      <td>0</td>\n",
       "      <td>1.185430</td>\n",
       "      <td>0</td>\n",
       "    </tr>\n",
       "    <tr>\n",
       "      <th>...</th>\n",
       "      <td>...</td>\n",
       "      <td>...</td>\n",
       "      <td>...</td>\n",
       "      <td>...</td>\n",
       "      <td>...</td>\n",
       "      <td>...</td>\n",
       "      <td>...</td>\n",
       "    </tr>\n",
       "    <tr>\n",
       "      <th>241</th>\n",
       "      <td>3</td>\n",
       "      <td>0</td>\n",
       "      <td>-0.104637</td>\n",
       "      <td>1</td>\n",
       "      <td>0</td>\n",
       "      <td>-0.336334</td>\n",
       "      <td>1</td>\n",
       "    </tr>\n",
       "    <tr>\n",
       "      <th>253</th>\n",
       "      <td>3</td>\n",
       "      <td>1</td>\n",
       "      <td>0.049062</td>\n",
       "      <td>1</td>\n",
       "      <td>0</td>\n",
       "      <td>-0.324253</td>\n",
       "      <td>2</td>\n",
       "    </tr>\n",
       "    <tr>\n",
       "      <th>390</th>\n",
       "      <td>1</td>\n",
       "      <td>1</td>\n",
       "      <td>0.510161</td>\n",
       "      <td>1</td>\n",
       "      <td>2</td>\n",
       "      <td>1.767741</td>\n",
       "      <td>2</td>\n",
       "    </tr>\n",
       "    <tr>\n",
       "      <th>667</th>\n",
       "      <td>3</td>\n",
       "      <td>1</td>\n",
       "      <td>-0.104637</td>\n",
       "      <td>0</td>\n",
       "      <td>0</td>\n",
       "      <td>-0.491874</td>\n",
       "      <td>2</td>\n",
       "    </tr>\n",
       "    <tr>\n",
       "      <th>843</th>\n",
       "      <td>3</td>\n",
       "      <td>1</td>\n",
       "      <td>0.394887</td>\n",
       "      <td>0</td>\n",
       "      <td>0</td>\n",
       "      <td>-0.518805</td>\n",
       "      <td>0</td>\n",
       "    </tr>\n",
       "  </tbody>\n",
       "</table>\n",
       "<p>801 rows × 7 columns</p>\n",
       "</div>"
      ],
      "text/plain": [
       "     Pclass  Sex       Age  SibSp  Parch      Fare  Embarked\n",
       "715       3    1 -0.796286      0      0 -0.494391         2\n",
       "319       1    0  0.817561      1      1  2.059694         0\n",
       "829       1    0  2.508257      0      0  0.962353         2\n",
       "79        3    0  0.049062      0      0 -0.397241         2\n",
       "484       1    1 -0.335187      1      0  1.185430         0\n",
       "..      ...  ...       ...    ...    ...       ...       ...\n",
       "241       3    0 -0.104637      1      0 -0.336334         1\n",
       "253       3    1  0.049062      1      0 -0.324253         2\n",
       "390       1    1  0.510161      1      2  1.767741         2\n",
       "667       3    1 -0.104637      0      0 -0.491874         2\n",
       "843       3    1  0.394887      0      0 -0.518805         0\n",
       "\n",
       "[801 rows x 7 columns]"
      ]
     },
     "execution_count": 22,
     "metadata": {},
     "output_type": "execute_result"
    }
   ],
   "source": [
    "X_train"
   ]
  },
  {
   "cell_type": "code",
   "execution_count": 23,
   "id": "755e6281",
   "metadata": {},
   "outputs": [
    {
     "data": {
      "text/html": [
       "<div>\n",
       "<style scoped>\n",
       "    .dataframe tbody tr th:only-of-type {\n",
       "        vertical-align: middle;\n",
       "    }\n",
       "\n",
       "    .dataframe tbody tr th {\n",
       "        vertical-align: top;\n",
       "    }\n",
       "\n",
       "    .dataframe thead th {\n",
       "        text-align: right;\n",
       "    }\n",
       "</style>\n",
       "<table border=\"1\" class=\"dataframe\">\n",
       "  <thead>\n",
       "    <tr style=\"text-align: right;\">\n",
       "      <th></th>\n",
       "      <th>PassengerId</th>\n",
       "      <th>Pclass</th>\n",
       "      <th>Sex</th>\n",
       "      <th>Age</th>\n",
       "      <th>SibSp</th>\n",
       "      <th>Parch</th>\n",
       "      <th>Fare</th>\n",
       "      <th>Embarked</th>\n",
       "    </tr>\n",
       "  </thead>\n",
       "  <tbody>\n",
       "    <tr>\n",
       "      <th>0</th>\n",
       "      <td>892</td>\n",
       "      <td>3</td>\n",
       "      <td>1</td>\n",
       "      <td>0.386231</td>\n",
       "      <td>0</td>\n",
       "      <td>0</td>\n",
       "      <td>-0.497413</td>\n",
       "      <td>1</td>\n",
       "    </tr>\n",
       "    <tr>\n",
       "      <th>1</th>\n",
       "      <td>893</td>\n",
       "      <td>3</td>\n",
       "      <td>0</td>\n",
       "      <td>1.371370</td>\n",
       "      <td>1</td>\n",
       "      <td>0</td>\n",
       "      <td>-0.512278</td>\n",
       "      <td>2</td>\n",
       "    </tr>\n",
       "    <tr>\n",
       "      <th>2</th>\n",
       "      <td>894</td>\n",
       "      <td>2</td>\n",
       "      <td>1</td>\n",
       "      <td>2.553537</td>\n",
       "      <td>0</td>\n",
       "      <td>0</td>\n",
       "      <td>-0.464100</td>\n",
       "      <td>1</td>\n",
       "    </tr>\n",
       "    <tr>\n",
       "      <th>3</th>\n",
       "      <td>895</td>\n",
       "      <td>3</td>\n",
       "      <td>1</td>\n",
       "      <td>-0.204852</td>\n",
       "      <td>0</td>\n",
       "      <td>0</td>\n",
       "      <td>-0.482475</td>\n",
       "      <td>2</td>\n",
       "    </tr>\n",
       "    <tr>\n",
       "      <th>4</th>\n",
       "      <td>896</td>\n",
       "      <td>3</td>\n",
       "      <td>0</td>\n",
       "      <td>-0.598908</td>\n",
       "      <td>1</td>\n",
       "      <td>1</td>\n",
       "      <td>-0.417492</td>\n",
       "      <td>2</td>\n",
       "    </tr>\n",
       "    <tr>\n",
       "      <th>...</th>\n",
       "      <td>...</td>\n",
       "      <td>...</td>\n",
       "      <td>...</td>\n",
       "      <td>...</td>\n",
       "      <td>...</td>\n",
       "      <td>...</td>\n",
       "      <td>...</td>\n",
       "      <td>...</td>\n",
       "    </tr>\n",
       "    <tr>\n",
       "      <th>413</th>\n",
       "      <td>1305</td>\n",
       "      <td>3</td>\n",
       "      <td>1</td>\n",
       "      <td>-0.204852</td>\n",
       "      <td>0</td>\n",
       "      <td>0</td>\n",
       "      <td>-0.493455</td>\n",
       "      <td>2</td>\n",
       "    </tr>\n",
       "    <tr>\n",
       "      <th>414</th>\n",
       "      <td>1306</td>\n",
       "      <td>1</td>\n",
       "      <td>0</td>\n",
       "      <td>0.740881</td>\n",
       "      <td>0</td>\n",
       "      <td>0</td>\n",
       "      <td>1.314435</td>\n",
       "      <td>0</td>\n",
       "    </tr>\n",
       "    <tr>\n",
       "      <th>415</th>\n",
       "      <td>1307</td>\n",
       "      <td>3</td>\n",
       "      <td>1</td>\n",
       "      <td>0.701476</td>\n",
       "      <td>0</td>\n",
       "      <td>0</td>\n",
       "      <td>-0.507796</td>\n",
       "      <td>2</td>\n",
       "    </tr>\n",
       "    <tr>\n",
       "      <th>416</th>\n",
       "      <td>1308</td>\n",
       "      <td>3</td>\n",
       "      <td>1</td>\n",
       "      <td>-0.204852</td>\n",
       "      <td>0</td>\n",
       "      <td>0</td>\n",
       "      <td>-0.493455</td>\n",
       "      <td>2</td>\n",
       "    </tr>\n",
       "    <tr>\n",
       "      <th>417</th>\n",
       "      <td>1309</td>\n",
       "      <td>3</td>\n",
       "      <td>1</td>\n",
       "      <td>-0.204852</td>\n",
       "      <td>1</td>\n",
       "      <td>1</td>\n",
       "      <td>-0.236957</td>\n",
       "      <td>0</td>\n",
       "    </tr>\n",
       "  </tbody>\n",
       "</table>\n",
       "<p>418 rows × 8 columns</p>\n",
       "</div>"
      ],
      "text/plain": [
       "     PassengerId  Pclass  Sex       Age  SibSp  Parch      Fare  Embarked\n",
       "0            892       3    1  0.386231      0      0 -0.497413         1\n",
       "1            893       3    0  1.371370      1      0 -0.512278         2\n",
       "2            894       2    1  2.553537      0      0 -0.464100         1\n",
       "3            895       3    1 -0.204852      0      0 -0.482475         2\n",
       "4            896       3    0 -0.598908      1      1 -0.417492         2\n",
       "..           ...     ...  ...       ...    ...    ...       ...       ...\n",
       "413         1305       3    1 -0.204852      0      0 -0.493455         2\n",
       "414         1306       1    0  0.740881      0      0  1.314435         0\n",
       "415         1307       3    1  0.701476      0      0 -0.507796         2\n",
       "416         1308       3    1 -0.204852      0      0 -0.493455         2\n",
       "417         1309       3    1 -0.204852      1      1 -0.236957         0\n",
       "\n",
       "[418 rows x 8 columns]"
      ]
     },
     "execution_count": 23,
     "metadata": {},
     "output_type": "execute_result"
    }
   ],
   "source": [
    "testing_data"
   ]
  },
  {
   "cell_type": "code",
   "execution_count": 24,
   "id": "6d4cf04d",
   "metadata": {},
   "outputs": [
    {
     "data": {
      "text/plain": [
       "(418, 7)"
      ]
     },
     "execution_count": 24,
     "metadata": {},
     "output_type": "execute_result"
    }
   ],
   "source": [
    "test = testing_data.drop(labels = ['PassengerId'], axis = 1)\n",
    "test.shape"
   ]
  },
  {
   "cell_type": "code",
   "execution_count": 26,
   "id": "b803b781",
   "metadata": {},
   "outputs": [],
   "source": [
    "submission_df = pd.DataFrame(columns = ['PassengerId', 'Survived'])\n",
    "submission_df['PassengerId'] = testing_data['PassengerId']\n",
    "pred = voting_clf.predict(test)\n",
    "submission_df['Survived'] = pred\n",
    "submission_df.to_csv(\"submissions.csv\", header = True, index = False)"
   ]
  },
  {
   "cell_type": "code",
   "execution_count": null,
   "id": "c748cc19",
   "metadata": {},
   "outputs": [],
   "source": []
  }
 ],
 "metadata": {
  "kernelspec": {
   "display_name": "Python 3 (ipykernel)",
   "language": "python",
   "name": "python3"
  },
  "language_info": {
   "codemirror_mode": {
    "name": "ipython",
    "version": 3
   },
   "file_extension": ".py",
   "mimetype": "text/x-python",
   "name": "python",
   "nbconvert_exporter": "python",
   "pygments_lexer": "ipython3",
   "version": "3.9.7"
  }
 },
 "nbformat": 4,
 "nbformat_minor": 5
}
